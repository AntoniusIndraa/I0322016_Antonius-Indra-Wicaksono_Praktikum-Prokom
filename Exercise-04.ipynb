{
 "cells": [
  {
   "cell_type": "code",
   "execution_count": 41,
   "metadata": {},
   "outputs": [
    {
     "name": "stdout",
     "output_type": "stream",
     "text": [
      "Antonius Indra Wicaksono\n",
      "I0322016\n",
      "A\n"
     ]
    }
   ],
   "source": [
    "print(input(\"Nama: \"))\n",
    "print(input(\"NIM: \"))\n",
    "print(input(\"Kelas: \"))"
   ]
  },
  {
   "attachments": {},
   "cell_type": "markdown",
   "metadata": {},
   "source": [
    "## 1."
   ]
  },
  {
   "attachments": {},
   "cell_type": "markdown",
   "metadata": {},
   "source": [
    "Buatlah program persyaratan pembuatan SIM dengan input yaitu nama user, umur user, dan nilai tes user.<br>\n",
    "Dengan ketentuan mendapat SIM sebagai berikut:\n",
    "* Umur dari user harus lebih dari sama dengan 17 tahun\n",
    "* Nilai tes lebih dari sama dengan 70\n",
    "\n",
    "<br>Output yang dihasilkan dari program adalah:\n",
    "<br>\"Selamat Anda Berhak Mendapatkan SIM Anda\"\n",
    "<br>\"Maaf, Anda tidak berhak mendapatkan SIM anda\"\n",
    "> *note: Kerjakan soal ini dengan percabangan*"
   ]
  },
  {
   "cell_type": "code",
   "execution_count": 1,
   "metadata": {},
   "outputs": [
    {
     "name": "stdout",
     "output_type": "stream",
     "text": [
      "Maaf, Anda tidak berhak mendapatkan SIM anda\n"
     ]
    }
   ],
   "source": [
    "# Kerjakan soal no 1 di sini\n",
    "\n",
    "nama = input('Masukkan Nama User ')\n",
    "umur = int(input('Masukkan Umur User '))\n",
    "nilai = int(input( 'Masukkan Nilai Tes '))\n",
    "\n",
    "if umur >= 17 :\n",
    "    if nilai >= 70 :\n",
    "        print('Selamat Anda Berhak Mendapatkan SIM Anda')\n",
    "    else :\n",
    "        print('Maaf, Anda tidak berhak mendapatkan SIM anda')\n",
    "else :\n",
    "    print('Maaf, Anda tidak berhak mendapatkan SIM anda')"
   ]
  },
  {
   "cell_type": "code",
   "execution_count": 6,
   "metadata": {},
   "outputs": [
    {
     "name": "stdout",
     "output_type": "stream",
     "text": [
      "Selamat Anda Berhak Mendapatkan SIM Anda\n"
     ]
    }
   ],
   "source": [
    "nama = input('Masukkan Nama User ')\n",
    "umur = int(input('Masukkan Umur User '))\n",
    "nilai = int(input( 'Masukkan Nilai Tes '))\n",
    "\n",
    "if umur >= 17 and nilai >= 70 :\n",
    "    print('Selamat Anda Berhak Mendapatkan SIM Anda')\n",
    "else :\n",
    "    print('Maaf, Anda tidak berhak mendapatkan SIM anda')"
   ]
  },
  {
   "attachments": {},
   "cell_type": "markdown",
   "metadata": {},
   "source": [
    "## 2."
   ]
  },
  {
   "attachments": {},
   "cell_type": "markdown",
   "metadata": {},
   "source": [
    "Buatlah program untuk mencari bilangan terbesar yang diinput dari user.<br>\n",
    "<br>Dengan ketentuan sebagai berikut:\n",
    "* Program nenerima 3 input bilangan dari user\n",
    "* Program akan menentukan mana bilangan terbesar\n",
    "* Output yang akan dihasilkan misalnya adalah \"Dari bil_1, bil_2, dan bil_3, bilangan terbesarnya adalah bilangan bil_2\"\n",
    "> *note: Kerjakan soal ini dengan percabangan*"
   ]
  },
  {
   "cell_type": "code",
   "execution_count": 43,
   "metadata": {},
   "outputs": [
    {
     "name": "stdout",
     "output_type": "stream",
     "text": [
      "Dari bilangan 1, 2, 3, Bilangan terbesar adalah 3\n"
     ]
    }
   ],
   "source": [
    "# Kerjakan soal nomor 2 disini\n",
    "\n",
    "a = int(input('Masukkan Bilangan Pertama '))\n",
    "b = int(input('Masukkan Bilangan Kedua '))\n",
    "c = int(input('Masukkan Bilangan Ketiga '))\n",
    "\n",
    "if a > b :\n",
    "    if a > c :\n",
    "        print(f'Dari bilangan {a}, {b}, {c}, Bilangan terbesar adalah {a}')\n",
    "    else : \n",
    "        print (f'Dari bilangan {a}, {b}, {c}, Bilangan terbesar adalah {c}')\n",
    "elif b > c :\n",
    "    if a > b : \n",
    "        print(f'Dari bilangan {a}, {b}, {c}, Bilangan terbesar adalah {a}')\n",
    "    else : \n",
    "        print(f'Dari bilangan {a}, {b}, {c}, Bilangan terbesar adalah {b}')\n",
    "else :\n",
    "    print(f'Dari bilangan {a}, {b}, {c}, Bilangan terbesar adalah {c}')\n",
    "        "
   ]
  },
  {
   "cell_type": "code",
   "execution_count": 15,
   "metadata": {},
   "outputs": [
    {
     "name": "stdout",
     "output_type": "stream",
     "text": [
      "Dari bilangan 3, 1, 2, Bilangan Terbesar adalah 3\n"
     ]
    }
   ],
   "source": [
    "a = int(input('Masukkan Bilangan Pertama '))\n",
    "b = int(input('Masukkan Bilangan kedua '))\n",
    "c = int(input('Masukkan Bilangan ketiga '))\n",
    "\n",
    "if a >= b and a >= c : \n",
    "    print(f'Dari bilangan {a}, {b}, {c}, Bilangan Terbesar adalah {a}')\n",
    "elif b>=a and b>=c :\n",
    "    print(f'Dari bilangan {a}, {b}, {c}, Bilangan Terbesar adalah {b}')\n",
    "else :\n",
    "    print(f'Dari bilangan {a}, {b}, {c}, Bilangan Terbesar adalah {c}')"
   ]
  }
 ],
 "metadata": {
  "kernelspec": {
   "display_name": "Python 3",
   "language": "python",
   "name": "python3"
  },
  "language_info": {
   "codemirror_mode": {
    "name": "ipython",
    "version": 3
   },
   "file_extension": ".py",
   "mimetype": "text/x-python",
   "name": "python",
   "nbconvert_exporter": "python",
   "pygments_lexer": "ipython3",
   "version": "3.11.2"
  },
  "orig_nbformat": 4,
  "vscode": {
   "interpreter": {
    "hash": "8e168fd0e17c02e7b9b70e1b149527b03788986403353d0e247c53822cd63dd6"
   }
  }
 },
 "nbformat": 4,
 "nbformat_minor": 2
}
