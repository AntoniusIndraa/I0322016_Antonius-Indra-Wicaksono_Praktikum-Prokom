{
 "cells": [
  {
   "cell_type": "code",
   "execution_count": 80,
   "metadata": {},
   "outputs": [
    {
     "name": "stdout",
     "output_type": "stream",
     "text": [
      "Antonius Indra Wicaksono\n",
      "I0322016\n",
      "A\n"
     ]
    }
   ],
   "source": [
    "print(input(\"Nama: \"))\n",
    "print(input(\"NIM: \"))\n",
    "print(input(\"Kelas: \"))"
   ]
  },
  {
   "attachments": {},
   "cell_type": "markdown",
   "metadata": {},
   "source": [
    "## 1."
   ]
  },
  {
   "attachments": {},
   "cell_type": "markdown",
   "metadata": {},
   "source": [
    "buatlah program sederhana untuk menghitung umur pengguna dengan ketentuan sebagai berikut :\n",
    "* Program meminta pengguna memasukan tanggal, bulan, dan tahun lahir\n",
    "* Program menghitung umur pengguna hingga tanggal 1 januari 2023\n",
    "* Program menampilkan umur dari pengguna"
   ]
  },
  {
   "cell_type": "code",
   "execution_count": 4,
   "metadata": {},
   "outputs": [
    {
     "name": "stdout",
     "output_type": "stream",
     "text": [
      "Penghitungan Umur\n",
      "~~~~~~~~~~~~~~~~~~~~~~~~~~~~~~~~~~~~~~~~~~~~~~~~~~\n",
      "Tanggal lahir anda adalah 1 - 1 - 2000\n",
      "Umur anda pada 1 - 1 - 2023 adalah  23 Tahun\n"
     ]
    }
   ],
   "source": [
    "#Program menghitung umur\n",
    "tanggal = int(input('Masukkan Tanggal Lahir Anda'))\n",
    "bulan = int(input('Masukkan Bulan Lahir'))\n",
    "tahun = int(input('Masukkan Tahun lahir anda'))\n",
    "\n",
    "batas_tanggal = 1\n",
    "batas_bulan = 1\n",
    "batas_tahun = 2023\n",
    "\n",
    "print('Penghitungan Umur')\n",
    "print('~'*50)\n",
    "\n",
    "if tanggal in range(2,32):\n",
    "    if bulan in range (1,13):\n",
    "        umur = batas_tahun - tahun - 1\n",
    "        print(f'Tanggal lahir anda adalah {tanggal} - {bulan} - {tahun}')\n",
    "        print('Umur anda pada 1 - 1 - 2023 adalah ',umur,'Tahun')\n",
    "        print('\\n*Perhitungan mungkin salah pada tanggal tertentu')\n",
    "    else :\n",
    "        print('Bulan yang anda masukkan salah')\n",
    "        print('Mohon periksa kembali bulan yang anda masukkan')\n",
    "elif tanggal == 1 :\n",
    "    if bulan == 1 :\n",
    "        umur1 = batas_tahun - tahun\n",
    "        print(f'Tanggal lahir anda adalah {tanggal} - {bulan} - {tahun}')\n",
    "        print('Umur anda pada 1 - 1 - 2023 adalah ',umur1,'Tahun')\n",
    "    elif bulan in range (2,13):\n",
    "        umur = batas_tahun - tahun - 1\n",
    "        print(f'Tanggal lahir anda adalah {tanggal} - {bulan} - {tahun}')\n",
    "        print('Umur anda pada 1 - 1 - 2023 adalah ',umur,'Tahun')\n",
    "    else :\n",
    "        print('Bulan yang anda masukkan salah')\n",
    "        print('Mohon periksa kembali bulan yang anda masukkan')\n",
    "else :\n",
    "    print('Tanggal yang anda masukkan salah')\n",
    "    print('Mohon periksa kembali tanggal yang anda masukkan')\n",
    "\n",
    "\n"
   ]
  },
  {
   "attachments": {},
   "cell_type": "markdown",
   "metadata": {},
   "source": [
    "## 2."
   ]
  },
  {
   "attachments": {},
   "cell_type": "markdown",
   "metadata": {},
   "source": [
    "Pada 2015, wabah flu burung menyerang Indonesia dan beberapa peternak ayam mengalami kerugian karena banyaknya ayam yang mati. Setiap bulan, jumlah ayamnya berkurang menjadi setengah. Setelah dua bulan, jumlah ayam yang tersisa adalah 200 ekor. Hitunglah jumlah ayam sebelumnya yang dimiliki peternak tersebut! (gunakan rumus deret geometri)\n",
    "\n",
    "> *note: SOAL DIATAS DIKERJAKAN SESUAI DENGAN RUMUS BAKU*"
   ]
  },
  {
   "cell_type": "code",
   "execution_count": 82,
   "metadata": {},
   "outputs": [
    {
     "name": "stdout",
     "output_type": "stream",
     "text": [
      "Jumlah ayam sekarang adalah =  200\n",
      "Jumlah awal ayam =  800.0\n"
     ]
    }
   ],
   "source": [
    "sisa = 200 #jumlah ayam sekarang\n",
    "waktu = 2 #2 Bulan\n",
    "\n",
    "#rumus baku \n",
    "#Un = a*r**(n-1)\n",
    "#a = jumlah awal\n",
    "#r = 1/2\n",
    "#n-1 = 2\n",
    "#a = Un/(r**(n-1))\n",
    "\n",
    "a = 200/((1/2)**2)\n",
    "print('Jumlah ayam sekarang adalah = ',sisa)\n",
    "print('Jumlah awal ayam = ',a)"
   ]
  },
  {
   "attachments": {},
   "cell_type": "markdown",
   "metadata": {},
   "source": [
    "## 3. "
   ]
  },
  {
   "attachments": {},
   "cell_type": "markdown",
   "metadata": {},
   "source": [
    "* **A** Hitunglah luas Prisma Segitiga dengan ketentuan sebagai berikut:\n",
    "    * Alas dan tutup prisma merupakan segitiga\n",
    "    * Terdapat 3 persegi panjang yang menyinggung alas dan tutup prisma\n",
    "    * Sisi persegi panjang yang menyinggung segitiga adalah sisi lebar\n",
    "```python\n",
    "    dictionary_figure = {\"Persegi\":{\"Sisi\":22},\n",
    "                        \"Persegi Panjang\":{\"Panjang\":10,\"Lebar\":5},\n",
    "                        \"Segitiga Sama Sisi\":{\"Sisi\":6,\"Tinggi\":3**(1/2) * 3},\n",
    "                        \"Lingkaran\":{\"Diameter\":7}}\n",
    "```\n",
    "* **B** Hitunglah luas Tabung dengan ketentuan sebagai berikut:\n",
    "    * Alas dan tutup tabung merupakan lingkaran\n",
    "    * Terdapat 1 persegi yang menyinggung alas dan tutup tabung\n",
    "    * Persegi yang ada mengelilingi lingkaran hingga sisi dari persegi saling bertemu\n",
    "\n",
    "> *note: Pada soal ini kalian hanya boleh menggunakan key-value pair dan index pada list. Tidak diperbolehkan menulis secara langsung dimensi dari figure*"
   ]
  },
  {
   "cell_type": "code",
   "execution_count": 83,
   "metadata": {},
   "outputs": [
    {
     "name": "stdout",
     "output_type": "stream",
     "text": [
      "A. Luas permukaan prisma segitiga sama sisi\n",
      "   lebar persegi panjang =  5 dan tinggi persegi panjang =  10 adalah  171.65063509461098\n",
      "\n",
      "B. Luas permukaan tabung \n",
      "   d = 7  dan tinggi =  21.991148575128552 adalah  560.5796356663285\n"
     ]
    }
   ],
   "source": [
    "dictionary_figure = {\"Persegi\":{\"Sisi\":22},\n",
    "                    \"Persegi Panjang\":{\"Panjang\":10,\"Lebar\":5},\n",
    "                    \"Segitiga Sama Sisi\":{\"Sisi\":6,\"Tinggi\":3**(1/2) * 3},\n",
    "                    \"Lingkaran\":{\"Diameter\":7}}\n",
    "\n",
    "\n",
    "\n",
    "#Luas Permukaan Prisma Segitiga\n",
    "#rumus luas segitiga sama sisi = (1/4*sisisegitiga**2)*(3**(1/2))\n",
    "panjang = dictionary_figure['Persegi Panjang']['Panjang']\n",
    "lebar = dictionary_figure['Persegi Panjang']['Lebar']\n",
    "sisisegitiga = lebar\n",
    "luas_segitiga = (1/4*sisisegitiga**2)*(3**(1/2))\n",
    "luas_pp = panjang*lebar\n",
    "luaspermukaan = 2 * luas_segitiga + 3*luas_pp\n",
    "print('A. Luas permukaan prisma segitiga sama sisi')\n",
    "print('   lebar persegi panjang = ',lebar, 'dan tinggi persegi panjang = ', panjang,'adalah ',luaspermukaan,)\n",
    "\n",
    "\n",
    "\n",
    "#Luas Permukaan Tabung\n",
    "from math import pi\n",
    "d = dictionary_figure['Lingkaran']['Diameter']\n",
    "kelilinglingkaran = pi*d\n",
    "luaslingkaran = pi*(1/4)*d**2\n",
    "sisipersegi = kelilinglingkaran\n",
    "luaspersegi = sisipersegi**2\n",
    "luas_tabung = 2*luaslingkaran + luaspersegi\n",
    "print('\\nB. Luas permukaan tabung ')\n",
    "print('   d =',d,' dan tinggi = ',sisipersegi,'adalah ',luas_tabung)"
   ]
  }
 ],
 "metadata": {
  "kernelspec": {
   "display_name": "Python 3",
   "language": "python",
   "name": "python3"
  },
  "language_info": {
   "codemirror_mode": {
    "name": "ipython",
    "version": 3
   },
   "file_extension": ".py",
   "mimetype": "text/x-python",
   "name": "python",
   "nbconvert_exporter": "python",
   "pygments_lexer": "ipython3",
   "version": "3.11.2"
  },
  "orig_nbformat": 4,
  "vscode": {
   "interpreter": {
    "hash": "5addf786bcd861d1ce5006f23111f8cbb206731e5b61b0a5632ba9e0252558a8"
   }
  }
 },
 "nbformat": 4,
 "nbformat_minor": 2
}
