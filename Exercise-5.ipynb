{
 "cells": [
  {
   "attachments": {},
   "cell_type": "markdown",
   "metadata": {},
   "source": [
    "Nama    : Antonius Indra Wicaksono \n",
    "\n",
    "NIM     : I0322016 \n",
    "\n",
    "Kelas   : A "
   ]
  },
  {
   "attachments": {},
   "cell_type": "markdown",
   "metadata": {},
   "source": [
    "1. Buatlah program untuk menampilkan total penjumlahan bilangan ganjil dan total penjumlahan bilangan genap dengan input dari user berupa range (batas atas dan batas bawah)!"
   ]
  },
  {
   "cell_type": "code",
   "execution_count": 119,
   "metadata": {},
   "outputs": [
    {
     "name": "stdout",
     "output_type": "stream",
     "text": [
      "Hasil penjumlahan bilangan ganjil dengan range (1,3) adalah 4\n",
      "Hasil penjumlahan bilangan genap dengan range (1,3) adalah 2\n"
     ]
    }
   ],
   "source": [
    "# Kerjakan nomor 1 di sini\n",
    "#input\n",
    "batasatas = int(input('Masukkan Batas Bawah'))\n",
    "batasbawah = int(input('Masukkan Batas Atas'))\n",
    "jml_ganjil = 0\n",
    "jml_genap = 0\n",
    "\n",
    "#proses\n",
    "if batasatas > batasbawah :\n",
    "    batasatas,batasbawah = batasbawah,batasatas\n",
    "for angka in range(batasatas,batasbawah+1) :\n",
    "    if angka % 2 == 1:\n",
    "        jml_ganjil += angka\n",
    "    else :\n",
    "        jml_genap += angka \n",
    "\n",
    "#output\n",
    "print(f'Hasil penjumlahan bilangan ganjil dengan range ({batasatas},{batasbawah}) adalah {jml_ganjil}')\n",
    "print(f'Hasil penjumlahan bilangan genap dengan range ({batasatas},{batasbawah}) adalah {jml_genap}')"
   ]
  },
  {
   "attachments": {},
   "cell_type": "markdown",
   "metadata": {},
   "source": [
    "2. Buatlah sebuah list yang berisi daftar makanan khas daerah (minimal 10 makanan termasuk makanan khas Solo). Kemudian buat program pencarian menggunakan pengulangan. Apabila nama makanan yang user inputkan sudah sesuai dengan isi list maka program akan berhenti dan menampilkan output \"(makanan yang diinput user) adalah makanan khas daerah\"."
   ]
  },
  {
   "cell_type": "code",
   "execution_count": 110,
   "metadata": {},
   "outputs": [
    {
     "name": "stdout",
     "output_type": "stream",
     "text": [
      "LIST MAKANAN DAERAH\n",
      "~~~~~~~~~~~~~~~~~~~~\n",
      "mi aceh\n",
      "bika ambon\n",
      "rendang\n",
      "pempek\n",
      "kerak telur\n",
      "serabi\n",
      "lumpia\n",
      "gudeg\n",
      "rujak cingur\n",
      "~~~~~~~~~~~~~~~~~~~~ \n",
      "Timlo adalah makanan khas daerah\n"
     ]
    }
   ],
   "source": [
    "# Kerjakan nomor 2 di sini\n",
    "\n",
    "def makanan_daerah() :\n",
    "     return['mi aceh', 'bika ambon', 'rendang', 'pempek', 'kerak telur',\n",
    "     'serabi', 'lumpia', 'gudeg', 'rujak cingur', 'timlo', 'selat solo', \n",
    "     'ayam betutu', 'soto banjar', 'papeda', 'karedok', 'nasi liwet', \n",
    "     'tahu kupat', 'sate kere', 'krengseng', 'jadah', 'tempe bacem', \n",
    "     'nasi tumpang', 'ketoprak', 'sosis solo']\n",
    "\n",
    "\n",
    "makanan = input('Masukkan Nama Makanan ')\n",
    "makanan_daerah = makanan_daerah()\n",
    "print('LIST MAKANAN DAERAH')\n",
    "print('~'*20)\n",
    "\n",
    "for i in makanan_daerah :\n",
    "    if i == makanan.lower() :\n",
    "        break\n",
    "    print(i)\n",
    "\n",
    "if i == makanan.lower() :\n",
    "    print('~'*20, f'\\n{makanan} adalah makanan khas daerah')\n",
    "else :\n",
    "    print('~'*20, f'\\n{makanan} bukan makanan khas daerah')\n"
   ]
  },
  {
   "attachments": {},
   "cell_type": "markdown",
   "metadata": {},
   "source": [
    "3. Buatlah program untuk menghitung rata-rata 7 bilangan dimana bilangan-bilangan tersebut didapat melalui input user!"
   ]
  },
  {
   "cell_type": "code",
   "execution_count": 114,
   "metadata": {},
   "outputs": [
    {
     "name": "stdout",
     "output_type": "stream",
     "text": [
      "Bilangan yang anda input = [1.0, 2.0, 3.0, 4.0, 5.0, 6.0, 7.0]\n",
      "Rata-rata bilangan       = 4.0\n"
     ]
    }
   ],
   "source": [
    "#Kerjakan nomor 3 di sini\n",
    "\n",
    "list = []\n",
    "for i in range(7) :\n",
    "    a = float(input('Masukkan bilangan '))\n",
    "    list.append(a)\n",
    "    ratarata = sum(list)/len(list)\n",
    "\n",
    "print(f'Bilangan yang anda input = {list}')\n",
    "print(f'Rata-rata bilangan       = {ratarata}')"
   ]
  }
 ],
 "metadata": {
  "kernelspec": {
   "display_name": "Python 3",
   "language": "python",
   "name": "python3"
  },
  "language_info": {
   "codemirror_mode": {
    "name": "ipython",
    "version": 3
   },
   "file_extension": ".py",
   "mimetype": "text/x-python",
   "name": "python",
   "nbconvert_exporter": "python",
   "pygments_lexer": "ipython3",
   "version": "3.11.2"
  },
  "orig_nbformat": 4
 },
 "nbformat": 4,
 "nbformat_minor": 2
}
