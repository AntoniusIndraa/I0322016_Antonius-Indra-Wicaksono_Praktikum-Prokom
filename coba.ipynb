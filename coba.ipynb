{
 "cells": [
  {
   "cell_type": "code",
   "execution_count": 9,
   "metadata": {},
   "outputs": [
    {
     "name": "stdout",
     "output_type": "stream",
     "text": [
      "Tanggal lahir = 2000-01-01\n",
      "Umur = 23\n"
     ]
    }
   ],
   "source": [
    "tanggal = int(input('Masukkan Tanggal '))\n",
    "bulan = int(input('Masukkan Bulan'))\n",
    "tahun = int(input('Masukkan Tahun'))\n",
    "\n",
    "from datetime import date\n",
    "tanggal_lahir = date(tahun,bulan,tanggal)\n",
    "\n",
    "limit = date(2023,1,1)\n",
    "\n",
    "umur = (limit-tanggal_lahir).days\n",
    "print('Tanggal lahir =', tanggal_lahir)\n",
    "print('Umur =', umur//365)"
   ]
  },
  {
   "cell_type": "code",
   "execution_count": 11,
   "metadata": {},
   "outputs": [
    {
     "name": "stdout",
     "output_type": "stream",
     "text": [
      "Jumlah ayam sekarang adalah =  200\n",
      "Jumlah awal ayam =  800.0\n"
     ]
    }
   ],
   "source": [
    "sisa = 200 #jumlah ayam sekarang\n",
    "waktu = 2 #2 Bulan\n",
    "\n",
    "#rumus baku \n",
    "#Un = a*r**(n-1)\n",
    "#a = jumlah awal\n",
    "#r = 1/2\n",
    "#n-1 = 2\n",
    "#a = Un/(r**(n-1))\n",
    "\n",
    "a = 200/((1/2)**2)\n",
    "print('Jumlah ayam sekarang adalah = ',sisa)\n",
    "\n",
    "print('Jumlah awal ayam = ',a)"
   ]
  },
  {
   "cell_type": "code",
   "execution_count": 16,
   "metadata": {},
   "outputs": [
    {
     "name": "stdout",
     "output_type": "stream",
     "text": [
      "Luas permukaan prisma segitiga dengan lebar =  5 dan tinggi =  10 adalah  171.65063509461098\n",
      "Luas permukaan tabung dengan d = 7  dan tinggi =  21.991148575128552 adalah  560.5796356663285\n"
     ]
    }
   ],
   "source": [
    "dictionary_figure = {\"Persegi\":{\"Sisi\":22},\n",
    "                    \"Persegi Panjang\":{\"Panjang\":10,\"Lebar\":5},\n",
    "                    \"Segitiga Sama Sisi\":{\"Sisi\":6,\"Tinggi\":3**(1/2) * 3},\n",
    "                    \"Lingkaran\":{\"Diameter\":7}}\n",
    "\n",
    "\n",
    "\n",
    "#Luas Permukaan Prisma Segitiga\n",
    "#rumus luas segitiga sama sisi = (1/4*sisisegitiga**2)*(3**(1/2))\n",
    "panjang = dictionary_figure['Persegi Panjang']['Panjang']\n",
    "lebar = dictionary_figure['Persegi Panjang']['Lebar']\n",
    "sisisegitiga = lebar\n",
    "luas_segitiga = (1/4*sisisegitiga**2)*(3**(1/2))\n",
    "luas_pp = panjang*lebar\n",
    "luaspermukaan = 2 * luas_segitiga + 3*luas_pp\n",
    "print('Luas permukaan prisma segitiga dengan lebar = ',lebar, 'dan tinggi = ', panjang,'adalah ',luaspermukaan)\n",
    "\n",
    "\n",
    "\n",
    "#Luas Permukaan Tabung\n",
    "from math import pi\n",
    "d = dictionary_figure['Lingkaran']['Diameter']\n",
    "kelilinglingkaran = pi*d\n",
    "luaslingkaran = pi*d**2*1/4\n",
    "sisipersegi = kelilinglingkaran\n",
    "luaspersegi = sisipersegi**2\n",
    "luas_tabung = 2*luaslingkaran + luaspersegi\n",
    "print('Luas permukaan tabung dengan d =',d,' dan tinggi = ',sisipersegi,'adalah ',luas_tabung)\n"
   ]
  }
 ],
 "metadata": {
  "kernelspec": {
   "display_name": "Python 3",
   "language": "python",
   "name": "python3"
  },
  "language_info": {
   "codemirror_mode": {
    "name": "ipython",
    "version": 3
   },
   "file_extension": ".py",
   "mimetype": "text/x-python",
   "name": "python",
   "nbconvert_exporter": "python",
   "pygments_lexer": "ipython3",
   "version": "3.11.2"
  },
  "orig_nbformat": 4
 },
 "nbformat": 4,
 "nbformat_minor": 2
}
