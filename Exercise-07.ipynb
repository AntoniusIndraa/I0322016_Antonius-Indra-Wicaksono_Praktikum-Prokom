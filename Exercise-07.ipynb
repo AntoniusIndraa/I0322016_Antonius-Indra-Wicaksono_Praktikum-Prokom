{
 "cells": [
  {
   "cell_type": "code",
   "execution_count": 11,
   "metadata": {},
   "outputs": [
    {
     "name": "stdout",
     "output_type": "stream",
     "text": [
      "matriks dari nilai yang anda masukkan :\n",
      "1 2 \n",
      "3 4 \n"
     ]
    },
    {
     "data": {
      "text/plain": [
       "[[1, 2], [3, 4]]"
      ]
     },
     "execution_count": 11,
     "metadata": {},
     "output_type": "execute_result"
    }
   ],
   "source": [
    "#Buatlah sebuah fungsi untuk membuat matrix berdasarkan input dari user\n",
    "\n",
    "def create_matrix(baris,kolom):\n",
    "    matrix = []\n",
    "    #Tulis kode kamu disini\n",
    "    for x in range (baris):\n",
    "        matrix.append([])\n",
    "        for y in range (kolom) :\n",
    "            nilai = int(input(f'Masukkan nilai matriks [{x}][{y}] = '))\n",
    "            matrix[x].append(nilai)\n",
    "    print('matriks dari nilai yang anda masukkan :')\n",
    "    for x in range(baris) :\n",
    "        for y in range(kolom) :\n",
    "            print(matrix[x][y], end=' ')\n",
    "        print()   \n",
    "    return matrix\n",
    "\n",
    "\n",
    "baris = int(input('Masukkan Jumlah Baris:\\t'))\n",
    "kolom = int(input('Masukkan Jumlah Kolom:\\t'))\n",
    "\n",
    "create_matrix(baris,kolom)"
   ]
  },
  {
   "cell_type": "code",
   "execution_count": 18,
   "metadata": {},
   "outputs": [
    {
     "name": "stdout",
     "output_type": "stream",
     "text": [
      "\n",
      "Nilai Matriks A :\n",
      "2 2 \n",
      "2 2 \n",
      "\n",
      "Nilai Matriks B :\n",
      "2 2 \n",
      "22 2 \n",
      "\n",
      "Hasil Penjumlahan\n",
      "4 4 \n",
      "24 4 \n"
     ]
    },
    {
     "data": {
      "text/plain": [
       "[[4, 4], [24, 4]]"
      ]
     },
     "execution_count": 18,
     "metadata": {},
     "output_type": "execute_result"
    }
   ],
   "source": [
    "#Buatlah sebuah fungsi untuk menambah dua matrix berdasarkan input user\n",
    "\n",
    "def tambah_matrix(matrix1,matrix2):\n",
    "    tambah = []\n",
    "    #Tulis kode kamu disini\n",
    "    for i in range(len(matrix1)) :\n",
    "        tambah.append([])\n",
    "        for j in range(len(matrix1[0])) :\n",
    "            jumlah = matrix1[i][j] + matrix2 [i][j]\n",
    "            tambah[i].append(jumlah)\n",
    "    print('\\nHasil Penjumlahan')\n",
    "    for i in range(len(tambah)) :\n",
    "        for j in range(len(tambah[0])) :\n",
    "            print(tambah[i][j], end=' ')\n",
    "        print()\n",
    "    return tambah\n",
    "\n",
    "baris = int(input('Masukkan Jumlah Baris :\\t'))\n",
    "kolom = int(input('Masukkan Jumlah Kolom :\\t'))\n",
    "\n",
    "matrixA = []\n",
    "for x in range (baris):\n",
    "    matrixA.append([])\n",
    "    for y in range (kolom) :\n",
    "        nilai = int(input(f'Masukkan nilai matriks A [{x}][{y}] = '))\n",
    "        matrixA[x].append(nilai)\n",
    "print('\\nNilai Matriks A :')\n",
    "for x in range(len(matrixA)) :\n",
    "    for y in range(len(matrixA[0])) :\n",
    "        print(matrixA[x][y], end=' ')\n",
    "    print()\n",
    "    \n",
    "\n",
    "\n",
    "matrixB = []\n",
    "for x in range (baris):\n",
    "    matrixB.append([])\n",
    "    for y in range (kolom) :\n",
    "        nilai = int(input(f'Masukkan nilai matriks B [{x}][{y}] = '))\n",
    "        matrixB[x].append(nilai)\n",
    "print('\\nNilai Matriks B :')\n",
    "for x in range(len(matrixB)) :\n",
    "    for y in range(len(matrixB[0])) :\n",
    "        print(matrixB[x][y], end=' ')\n",
    "    print()\n",
    "\n",
    "\n",
    "tambah_matrix(matrixA, matrixB)"
   ]
  },
  {
   "cell_type": "code",
   "execution_count": 22,
   "metadata": {},
   "outputs": [
    {
     "name": "stdout",
     "output_type": "stream",
     "text": [
      "\n",
      "Nilai Matriks A :\n",
      "2 2 \n",
      "2 2 \n",
      "\n",
      "Nilai Matriks B :\n",
      "2 2 \n",
      "2 2 \n",
      "\n",
      "Hasil Perkalian Matriks A dan Matriks B: \n",
      "8 8 \n",
      "8 8 \n"
     ]
    },
    {
     "data": {
      "text/plain": [
       "[[8, 8], [8, 8]]"
      ]
     },
     "execution_count": 22,
     "metadata": {},
     "output_type": "execute_result"
    }
   ],
   "source": [
    "#Buatlah fungsi untuk mengakalikan dua buah matrix berdasarkan input user\n",
    "\n",
    "def multiply_matrix(matrix1, matrix2):\n",
    "    result=[]\n",
    "    #Tulis kode kamu disini\n",
    "    for x in range(0,len(matrix1)) :\n",
    "        row = []\n",
    "        for y in range(0,len(matrix1[0])) :\n",
    "            total = 0\n",
    "            for z in range(0,len(matrix1)) :\n",
    "                total = total + (matrix1[x][z] * matrix2[z][y])\n",
    "            row.append(total)\n",
    "        result.append(row)\n",
    "    print('\\nHasil Perkalian Matriks A dan Matriks B: ')\n",
    "    for i in range(len(result)):\n",
    "        for j in range(len(result[0])) :\n",
    "            print(result[i][j], end=' ')\n",
    "        print()\n",
    "    return result\n",
    "\n",
    "baris = int(input('Masukkan Jumlah Baris :\\t'))\n",
    "kolom = int(input('Masukkan Jumlah Kolom :\\t'))\n",
    "\n",
    "matrix1 = []\n",
    "for x in range (baris):\n",
    "    matrix1.append([])\n",
    "    for y in range (kolom) :\n",
    "        nilai = int(input(f'Masukkan nilai matriks A [{x}][{y}] = '))\n",
    "        matrix1[x].append(nilai)\n",
    "print('\\nNilai Matriks A :')\n",
    "for x in range(len(matrix1)) :\n",
    "    for y in range(len(matrix1[0])) :\n",
    "        print(matrix1[x][y], end=' ')\n",
    "    print()\n",
    "\n",
    "matrix2 = []\n",
    "for x in range (baris):\n",
    "    matrix2.append([])\n",
    "    for y in range (kolom) :\n",
    "        nilai = int(input(f'Masukkan nilai matriks B [{x}][{y}] = '))\n",
    "        matrix2[x].append(nilai)\n",
    "print('\\nNilai Matriks B :')\n",
    "for x in range(len(matrix2)) :\n",
    "    for y in range(len(matrix2[0])) :\n",
    "        print(matrix2[x][y], end=' ')\n",
    "    print()\n",
    "\n",
    "multiply_matrix(matrix1, matrix2)"
   ]
  }
 ],
 "metadata": {
  "kernelspec": {
   "display_name": "Python 3",
   "language": "python",
   "name": "python3"
  },
  "language_info": {
   "codemirror_mode": {
    "name": "ipython",
    "version": 3
   },
   "file_extension": ".py",
   "mimetype": "text/x-python",
   "name": "python",
   "nbconvert_exporter": "python",
   "pygments_lexer": "ipython3",
   "version": "3.11.2"
  },
  "orig_nbformat": 4
 },
 "nbformat": 4,
 "nbformat_minor": 2
}
